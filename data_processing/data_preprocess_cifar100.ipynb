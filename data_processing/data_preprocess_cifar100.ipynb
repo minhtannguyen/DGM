{
 "cells": [
  {
   "cell_type": "code",
   "execution_count": 1,
   "metadata": {},
   "outputs": [],
   "source": [
    "import os\n",
    "import sys\n",
    "import _pickle as cPickle\n",
    "import csv\n",
    "import numpy as np\n",
    "from PIL import Image\n",
    "\n",
    "from IPython.core.debugger import Tracer"
   ]
  },
  {
   "cell_type": "code",
   "execution_count": 2,
   "metadata": {},
   "outputs": [],
   "source": [
    "data_dir = '/tanData/datasets/cifar100/'\n",
    "output_dir = '/tanData/datasets/cifar100/train'\n",
    "output_list_path = 'cifar100_train'"
   ]
  },
  {
   "cell_type": "code",
   "execution_count": 3,
   "metadata": {},
   "outputs": [],
   "source": [
    "def unpickle(file):\n",
    "    fo = open(file, 'rb')\n",
    "    dict = cPickle.load(fo, encoding='bytes')\n",
    "    fo.close()\n",
    "    return dict"
   ]
  },
  {
   "cell_type": "code",
   "execution_count": 5,
   "metadata": {},
   "outputs": [
    {
     "name": "stderr",
     "output_type": "stream",
     "text": [
      "/usr/local/lib/python3.5/dist-packages/ipykernel_launcher.py:13: DeprecationWarning: `Tracer` is deprecated since version 5.1, directly use `IPython.core.debugger.Pdb.set_trace()`\n",
      "  del sys.path[0]\n"
     ]
    },
    {
     "name": "stdout",
     "output_type": "stream",
     "text": [
      "--Return--\n",
      "None\n",
      "> \u001b[0;32m<ipython-input-5-5e539a497598>\u001b[0m(13)\u001b[0;36m<module>\u001b[0;34m()\u001b[0m\n",
      "\u001b[0;32m     11 \u001b[0;31m\u001b[0mpath\u001b[0m \u001b[0;34m=\u001b[0m \u001b[0mcifar\u001b[0m\u001b[0;34m[\u001b[0m\u001b[0;34mb'filenames'\u001b[0m\u001b[0;34m]\u001b[0m\u001b[0;34m\u001b[0m\u001b[0m\n",
      "\u001b[0m\u001b[0;32m     12 \u001b[0;31m\u001b[0;34m\u001b[0m\u001b[0m\n",
      "\u001b[0m\u001b[0;32m---> 13 \u001b[0;31m\u001b[0mTracer\u001b[0m\u001b[0;34m(\u001b[0m\u001b[0;34m)\u001b[0m\u001b[0;34m(\u001b[0m\u001b[0;34m)\u001b[0m\u001b[0;34m\u001b[0m\u001b[0m\n",
      "\u001b[0m\u001b[0;32m     14 \u001b[0;31m\u001b[0;34m\u001b[0m\u001b[0m\n",
      "\u001b[0m\u001b[0;32m     15 \u001b[0;31m\u001b[0mmean\u001b[0m \u001b[0;34m=\u001b[0m \u001b[0mnp\u001b[0m\u001b[0;34m.\u001b[0m\u001b[0mmean\u001b[0m\u001b[0;34m(\u001b[0m\u001b[0mdata\u001b[0m\u001b[0;34m,\u001b[0m \u001b[0maxis\u001b[0m\u001b[0;34m=\u001b[0m\u001b[0;34m(\u001b[0m\u001b[0;36m0\u001b[0m\u001b[0;34m,\u001b[0m \u001b[0;36m2\u001b[0m\u001b[0;34m,\u001b[0m \u001b[0;36m3\u001b[0m\u001b[0;34m)\u001b[0m\u001b[0;34m)\u001b[0m\u001b[0;34m\u001b[0m\u001b[0m\n",
      "\u001b[0m\n",
      "array([[255, 255, 255, ...,  10,  59,  79],\n",
      "       [255, 253, 253, ..., 253, 253, 255],\n",
      "       [250, 248, 247, ..., 194, 207, 228],\n",
      "       ...,\n",
      "       [248, 240, 236, ..., 180, 174, 205],\n",
      "       [156, 151, 151, ..., 114, 107, 126],\n",
      "       [ 31,  30,  31, ...,  72,  69,  67]], dtype=uint8)\n",
      "*** TypeError: shape() missing 1 required positional argument: 'a'\n",
      "*** TypeError: 'tuple' object is not callable\n",
      "(50000, 3072)\n",
      "*** Newest frame\n",
      "*** Newest frame\n",
      "array([[255, 255, 255, ...,  10,  59,  79],\n",
      "       [255, 253, 253, ..., 253, 253, 255],\n",
      "       [250, 248, 247, ..., 194, 207, 228],\n",
      "       ...,\n",
      "       [248, 240, 236, ..., 180, 174, 205],\n",
      "       [156, 151, 151, ..., 114, 107, 126],\n",
      "       [ 31,  30,  31, ...,  72,  69,  67]], dtype=uint8)\n",
      "*** Newest frame\n",
      "*** SyntaxError: invalid syntax\n",
      "3072\n",
      "array([129.30416561, 124.0699627 , 112.43405006])\n",
      "array([68.1702429 , 65.39180804, 70.41837019])\n",
      "Exiting Debugger.\n"
     ]
    }
   ],
   "source": [
    "cifar = unpickle(os.path.join(data_dir, 'train_cifar100'))\n",
    "\n",
    "if not os.path.exists(output_dir):\n",
    "    os.mkdir(output_dir)\n",
    "\n",
    "list_writer=open(os.path.join(data_dir, output_list_path), \"w\")\n",
    "fo = csv.writer(list_writer, lineterminator='\\n', delimiter='\\t')\n",
    "\n",
    "data = cifar[b'data']\n",
    "label = cifar[b'fine_labels']\n",
    "path = cifar[b'filenames']\n",
    "\n",
    "sz = data.shape[0]\n",
    "\n",
    "for i in range(sz):\n",
    "    if i % 1000 == 0:\n",
    "        print(i)\n",
    "    img = data[i]\n",
    "    p = path[i].decode(\"utf-8\")\n",
    "    img = img.reshape((3, 32, 32))\n",
    "    img = np.swapaxes(img, 0, 2)\n",
    "    img = np.swapaxes(img, 0, 1)\n",
    "    im = Image.fromarray(img)\n",
    "    im.save(os.path.join(output_dir,p))\n",
    "    row = [i, label[i], p]\n",
    "    fo.writerow(row)\n",
    "\n",
    "list_writer.close()"
   ]
  },
  {
   "cell_type": "code",
   "execution_count": 5,
   "metadata": {},
   "outputs": [
    {
     "name": "stdout",
     "output_type": "stream",
     "text": [
      "Creating .rec file from /tanData/datasets/cifar100/cifar100_val.lst in /tanData/datasets/cifar100\n",
      "time: 0.00171113014221  count: 0\n",
      "time: 0.0712478160858  count: 1000\n",
      "time: 0.0644810199738  count: 2000\n",
      "time: 0.054811000824  count: 3000\n",
      "time: 0.0585911273956  count: 4000\n",
      "time: 0.0582509040833  count: 5000\n",
      "time: 0.0607049465179  count: 6000\n",
      "time: 0.0451171398163  count: 7000\n",
      "time: 0.0507578849792  count: 8000\n",
      "time: 0.0522539615631  count: 9000\n"
     ]
    }
   ],
   "source": [
    "%%bash\n",
    "\n",
    "DATA_DIR=/tanData/datasets/cifar100\n",
    "data_name=\"test\"\n",
    "list_name=\"cifar100_val\"\n",
    "MX_DIR=/mxnet\n",
    "\n",
    "mv ${DATA_DIR}/${list_name} ${DATA_DIR}/${list_name}.lst\n",
    "# make .rec file for all classes\n",
    "python ${MX_DIR}/tools/im2rec.py --exts '.png' --quality 95 --num-thread 16 --color 1 ${DATA_DIR}/${list_name} ${DATA_DIR}/${data_name}\n",
    "\n"
   ]
  }
 ],
 "metadata": {
  "kernelspec": {
   "display_name": "Python 3",
   "language": "python",
   "name": "python3"
  },
  "language_info": {
   "codemirror_mode": {
    "name": "ipython",
    "version": 3
   },
   "file_extension": ".py",
   "mimetype": "text/x-python",
   "name": "python",
   "nbconvert_exporter": "python",
   "pygments_lexer": "ipython3",
   "version": "3.5.2"
  }
 },
 "nbformat": 4,
 "nbformat_minor": 2
}
