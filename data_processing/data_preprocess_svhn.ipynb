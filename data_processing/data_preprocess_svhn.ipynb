{
 "cells": [
  {
   "cell_type": "code",
   "execution_count": 1,
   "metadata": {},
   "outputs": [],
   "source": [
    "import os\n",
    "import sys\n",
    "import _pickle as cPickle\n",
    "import csv\n",
    "import numpy as np\n",
    "from PIL import Image\n",
    "from scipy.io import loadmat\n",
    "\n",
    "from IPython.core.debugger import Tracer"
   ]
  },
  {
   "cell_type": "code",
   "execution_count": 2,
   "metadata": {},
   "outputs": [],
   "source": [
    "data_dir = '/tanData/datasets/svhn/'\n",
    "output_dir = '/tanData/datasets/svhn/test'\n",
    "output_list_path = 'svhn_val'"
   ]
  },
  {
   "cell_type": "code",
   "execution_count": 3,
   "metadata": {},
   "outputs": [
    {
     "name": "stderr",
     "output_type": "stream",
     "text": [
      "/usr/local/lib/python3.5/dist-packages/ipykernel_launcher.py:7: DeprecationWarning: `Tracer` is deprecated since version 5.1, directly use `IPython.core.debugger.Pdb.set_trace()`\n",
      "  import sys\n"
     ]
    },
    {
     "name": "stdout",
     "output_type": "stream",
     "text": [
      "--Return--\n",
      "None\n",
      "> \u001b[0;32m<ipython-input-3-03273411a288>\u001b[0m(7)\u001b[0;36m<module>\u001b[0;34m()\u001b[0m\n",
      "\u001b[0;32m      5 \u001b[0;31m\u001b[0mlabel\u001b[0m\u001b[0;34m[\u001b[0m\u001b[0mlabel\u001b[0m\u001b[0;34m==\u001b[0m\u001b[0;36m10\u001b[0m\u001b[0;34m]\u001b[0m \u001b[0;34m=\u001b[0m \u001b[0;36m0\u001b[0m\u001b[0;34m\u001b[0m\u001b[0m\n",
      "\u001b[0m\u001b[0;32m      6 \u001b[0;31m\u001b[0;34m\u001b[0m\u001b[0m\n",
      "\u001b[0m\u001b[0;32m----> 7 \u001b[0;31m\u001b[0mTracer\u001b[0m\u001b[0;34m(\u001b[0m\u001b[0;34m)\u001b[0m\u001b[0;34m(\u001b[0m\u001b[0;34m)\u001b[0m\u001b[0;34m\u001b[0m\u001b[0m\n",
      "\u001b[0m\u001b[0;32m      8 \u001b[0;31m\u001b[0;34m\u001b[0m\u001b[0m\n",
      "\u001b[0m\u001b[0;32m      9 \u001b[0;31m\u001b[0mmean\u001b[0m \u001b[0;34m=\u001b[0m \u001b[0mnp\u001b[0m\u001b[0;34m.\u001b[0m\u001b[0mmean\u001b[0m\u001b[0;34m(\u001b[0m\u001b[0mdata\u001b[0m\u001b[0;34m,\u001b[0m \u001b[0maxis\u001b[0m\u001b[0;34m=\u001b[0m\u001b[0;34m(\u001b[0m\u001b[0;36m0\u001b[0m\u001b[0;34m,\u001b[0m \u001b[0;36m2\u001b[0m\u001b[0;34m,\u001b[0m \u001b[0;36m3\u001b[0m\u001b[0;34m)\u001b[0m\u001b[0;34m)\u001b[0m\u001b[0;34m\u001b[0m\u001b[0m\n",
      "\u001b[0m\n",
      "array([55.95578582, 57.77526543, 58.26906232])\n",
      "Exiting Debugger.\n"
     ]
    }
   ],
   "source": [
    "svhn = loadmat(os.path.join(data_dir, 'test_32x32.mat'))\n",
    "data = svhn['X']\n",
    "data = np.transpose(data,(3,2,0,1))\n",
    "label = svhn['y'].flatten()\n",
    "label[label==10] = 0\n",
    "\n",
    "if not os.path.exists(output_dir):\n",
    "    os.mkdir(output_dir)\n",
    "\n",
    "list_writer=open(os.path.join(data_dir, output_list_path), \"w\")\n",
    "fo = csv.writer(list_writer, lineterminator='\\n', delimiter='\\t')\n",
    "\n",
    "sz = data.shape[0]\n",
    "\n",
    "for i in range(sz):\n",
    "    if i % 1000 == 0:\n",
    "        print(i)\n",
    "    img = data[i]\n",
    "    img = np.swapaxes(img, 0, 2)\n",
    "    img = np.swapaxes(img, 0, 1)\n",
    "    im = Image.fromarray(img)\n",
    "    im.save(os.path.join(output_dir,'%i.png'%i))\n",
    "    row = [i, label[i], '%i.png'%i]\n",
    "    fo.writerow(row)\n",
    "\n",
    "list_writer.close()"
   ]
  },
  {
   "cell_type": "code",
   "execution_count": 4,
   "metadata": {},
   "outputs": [
    {
     "name": "stdout",
     "output_type": "stream",
     "text": [
      "Creating .rec file from /tanData/datasets/svhn/svhn_val.lst in /tanData/datasets/svhn\n",
      "time: 0.000774145126343  count: 0\n",
      "time: 0.0752608776093  count: 1000\n",
      "time: 0.0585720539093  count: 2000\n",
      "time: 0.0581359863281  count: 3000\n",
      "time: 0.0573079586029  count: 4000\n",
      "time: 0.0570840835571  count: 5000\n",
      "time: 0.0567049980164  count: 6000\n",
      "time: 0.056932926178  count: 7000\n",
      "time: 0.0630731582642  count: 8000\n",
      "time: 0.0595140457153  count: 9000\n",
      "time: 0.0603568553925  count: 10000\n",
      "time: 0.0558979511261  count: 11000\n",
      "time: 0.0585069656372  count: 12000\n",
      "time: 0.0543081760406  count: 13000\n",
      "time: 0.0540838241577  count: 14000\n",
      "time: 0.0553150177002  count: 15000\n",
      "time: 0.0559031963348  count: 16000\n",
      "time: 0.0622057914734  count: 17000\n",
      "time: 0.0542750358582  count: 18000\n",
      "time: 0.055722951889  count: 19000\n",
      "time: 0.0550870895386  count: 20000\n",
      "time: 0.0549690723419  count: 21000\n",
      "time: 0.0544860363007  count: 22000\n",
      "time: 0.0528678894043  count: 23000\n",
      "time: 0.0512630939484  count: 24000\n",
      "time: 0.0509660243988  count: 25000\n",
      "time: 0.0478708744049  count: 26000\n"
     ]
    }
   ],
   "source": [
    "%%bash\n",
    "\n",
    "DATA_DIR=/tanData/datasets/svhn\n",
    "data_name=\"test\"\n",
    "list_name=\"svhn_val\"\n",
    "MX_DIR=/mxnet\n",
    "\n",
    "mv ${DATA_DIR}/${list_name} ${DATA_DIR}/${list_name}.lst\n",
    "# make .rec file for all classes\n",
    "python ${MX_DIR}/tools/im2rec.py --exts '.png' --quality 95 --num-thread 16 --color 1 ${DATA_DIR}/${list_name} ${DATA_DIR}/${data_name}\n"
   ]
  }
 ],
 "metadata": {
  "kernelspec": {
   "display_name": "Python 3",
   "language": "python",
   "name": "python3"
  },
  "language_info": {
   "codemirror_mode": {
    "name": "ipython",
    "version": 3
   },
   "file_extension": ".py",
   "mimetype": "text/x-python",
   "name": "python",
   "nbconvert_exporter": "python",
   "pygments_lexer": "ipython3",
   "version": "3.5.2"
  }
 },
 "nbformat": 4,
 "nbformat_minor": 2
}
